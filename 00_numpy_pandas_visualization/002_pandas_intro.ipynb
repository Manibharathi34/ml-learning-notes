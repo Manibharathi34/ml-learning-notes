{
 "cells": [
  {
   "cell_type": "markdown",
   "id": "d036c888",
   "metadata": {},
   "source": [
    "### Intro to Pandas\n",
    "When working with tabular data, such as data stored in spreadsheets or databases, pandas is the\n",
    "right tool. It helps to explore, clean and process data. In pandas library, a data table is called `dataframe`.  \n",
    "\n",
    "`DataFrame` is the main object is the pandas. A DataFrame is a 2-dimensional data structure that can store data of different types (including characters, integers, floating point values, categorical data and more) in columns. It is similar to a spreadsheet, a SQL table.  \n",
    "\n",
    "Each column in a dataframe is called `series`"
   ]
  },
  {
   "cell_type": "code",
   "execution_count": null,
   "id": "84c00b71",
   "metadata": {},
   "outputs": [],
   "source": [
    "#To use the pandas library, let import\n",
    "import pandas as pd\n",
    "df = pd.DataFrame(\n",
    "    {\n",
    "        \"Name\": [\n",
    "            \"Braund, Mr. Owen Harris\",\n",
    "            \"Allen, Mr. William Henry\",\n",
    "            \"Bonnell, Miss. Elizabeth\",\n",
    "        ],\n",
    "        \"Age\": [22, 35, 58],\n",
    "        \"Sex\": [\"male\", \"male\", \"female\"],\n",
    "    }\n",
    ")\n"
   ]
  },
  {
   "cell_type": "markdown",
   "id": "342f3506",
   "metadata": {},
   "source": [
    "When selecting single column of the pandas `Dataframe`, the result is a pandas `Series`. To select the column, use the column label between []"
   ]
  },
  {
   "cell_type": "code",
   "execution_count": null,
   "id": "cf9453ae",
   "metadata": {},
   "outputs": [],
   "source": [
    "ages = df[\"Age\"]\n",
    "print(ages)\n",
    "\n",
    "# We can create a Series from scratch as well:\n",
    "ages = pd.Series([22,23,24], name=\"Age\")\n",
    "print(ages)"
   ]
  },
  {
   "cell_type": "markdown",
   "id": "96fe98a8",
   "metadata": {},
   "source": [
    "pandas supports the integration with many file formats or data sources out of the box (csv, excel, sql, json, parquet,…). Importing data from each of these data sources is provided by function with the prefix read_*. Similarly, the to_* methods are used to store data. pandas provides the read_csv() function to read data stored as a csv file into a pandas DataFrame.  "
   ]
  },
  {
   "cell_type": "code",
   "execution_count": 36,
   "id": "d040639f",
   "metadata": {},
   "outputs": [
    {
     "data": {
      "text/html": [
       "<div>\n",
       "<style scoped>\n",
       "    .dataframe tbody tr th:only-of-type {\n",
       "        vertical-align: middle;\n",
       "    }\n",
       "\n",
       "    .dataframe tbody tr th {\n",
       "        vertical-align: top;\n",
       "    }\n",
       "\n",
       "    .dataframe thead th {\n",
       "        text-align: right;\n",
       "    }\n",
       "</style>\n",
       "<table border=\"1\" class=\"dataframe\">\n",
       "  <thead>\n",
       "    <tr style=\"text-align: right;\">\n",
       "      <th></th>\n",
       "      <th>Suburb</th>\n",
       "      <th>Address</th>\n",
       "      <th>Rooms</th>\n",
       "      <th>Type</th>\n",
       "      <th>Price</th>\n",
       "      <th>Method</th>\n",
       "      <th>SellerG</th>\n",
       "      <th>Date</th>\n",
       "      <th>Distance</th>\n",
       "      <th>Postcode</th>\n",
       "      <th>...</th>\n",
       "      <th>Bathroom</th>\n",
       "      <th>Car</th>\n",
       "      <th>Landsize</th>\n",
       "      <th>BuildingArea</th>\n",
       "      <th>YearBuilt</th>\n",
       "      <th>CouncilArea</th>\n",
       "      <th>Lattitude</th>\n",
       "      <th>Longtitude</th>\n",
       "      <th>Regionname</th>\n",
       "      <th>Propertycount</th>\n",
       "    </tr>\n",
       "  </thead>\n",
       "  <tbody>\n",
       "    <tr>\n",
       "      <th>0</th>\n",
       "      <td>Abbotsford</td>\n",
       "      <td>85 Turner St</td>\n",
       "      <td>2</td>\n",
       "      <td>h</td>\n",
       "      <td>1480000.0</td>\n",
       "      <td>S</td>\n",
       "      <td>Biggin</td>\n",
       "      <td>3/12/2016</td>\n",
       "      <td>2.5</td>\n",
       "      <td>3067.0</td>\n",
       "      <td>...</td>\n",
       "      <td>1.0</td>\n",
       "      <td>1.0</td>\n",
       "      <td>202.0</td>\n",
       "      <td>NaN</td>\n",
       "      <td>NaN</td>\n",
       "      <td>Yarra</td>\n",
       "      <td>-37.79960</td>\n",
       "      <td>144.99840</td>\n",
       "      <td>Northern Metropolitan</td>\n",
       "      <td>4019.0</td>\n",
       "    </tr>\n",
       "    <tr>\n",
       "      <th>1</th>\n",
       "      <td>Abbotsford</td>\n",
       "      <td>25 Bloomburg St</td>\n",
       "      <td>2</td>\n",
       "      <td>h</td>\n",
       "      <td>1035000.0</td>\n",
       "      <td>S</td>\n",
       "      <td>Biggin</td>\n",
       "      <td>4/02/2016</td>\n",
       "      <td>2.5</td>\n",
       "      <td>3067.0</td>\n",
       "      <td>...</td>\n",
       "      <td>1.0</td>\n",
       "      <td>0.0</td>\n",
       "      <td>156.0</td>\n",
       "      <td>79.0</td>\n",
       "      <td>1900.0</td>\n",
       "      <td>Yarra</td>\n",
       "      <td>-37.80790</td>\n",
       "      <td>144.99340</td>\n",
       "      <td>Northern Metropolitan</td>\n",
       "      <td>4019.0</td>\n",
       "    </tr>\n",
       "    <tr>\n",
       "      <th>2</th>\n",
       "      <td>Abbotsford</td>\n",
       "      <td>5 Charles St</td>\n",
       "      <td>3</td>\n",
       "      <td>h</td>\n",
       "      <td>1465000.0</td>\n",
       "      <td>SP</td>\n",
       "      <td>Biggin</td>\n",
       "      <td>4/03/2017</td>\n",
       "      <td>2.5</td>\n",
       "      <td>3067.0</td>\n",
       "      <td>...</td>\n",
       "      <td>2.0</td>\n",
       "      <td>0.0</td>\n",
       "      <td>134.0</td>\n",
       "      <td>150.0</td>\n",
       "      <td>1900.0</td>\n",
       "      <td>Yarra</td>\n",
       "      <td>-37.80930</td>\n",
       "      <td>144.99440</td>\n",
       "      <td>Northern Metropolitan</td>\n",
       "      <td>4019.0</td>\n",
       "    </tr>\n",
       "    <tr>\n",
       "      <th>3</th>\n",
       "      <td>Abbotsford</td>\n",
       "      <td>40 Federation La</td>\n",
       "      <td>3</td>\n",
       "      <td>h</td>\n",
       "      <td>850000.0</td>\n",
       "      <td>PI</td>\n",
       "      <td>Biggin</td>\n",
       "      <td>4/03/2017</td>\n",
       "      <td>2.5</td>\n",
       "      <td>3067.0</td>\n",
       "      <td>...</td>\n",
       "      <td>2.0</td>\n",
       "      <td>1.0</td>\n",
       "      <td>94.0</td>\n",
       "      <td>NaN</td>\n",
       "      <td>NaN</td>\n",
       "      <td>Yarra</td>\n",
       "      <td>-37.79690</td>\n",
       "      <td>144.99690</td>\n",
       "      <td>Northern Metropolitan</td>\n",
       "      <td>4019.0</td>\n",
       "    </tr>\n",
       "    <tr>\n",
       "      <th>4</th>\n",
       "      <td>Abbotsford</td>\n",
       "      <td>55a Park St</td>\n",
       "      <td>4</td>\n",
       "      <td>h</td>\n",
       "      <td>1600000.0</td>\n",
       "      <td>VB</td>\n",
       "      <td>Nelson</td>\n",
       "      <td>4/06/2016</td>\n",
       "      <td>2.5</td>\n",
       "      <td>3067.0</td>\n",
       "      <td>...</td>\n",
       "      <td>1.0</td>\n",
       "      <td>2.0</td>\n",
       "      <td>120.0</td>\n",
       "      <td>142.0</td>\n",
       "      <td>2014.0</td>\n",
       "      <td>Yarra</td>\n",
       "      <td>-37.80720</td>\n",
       "      <td>144.99410</td>\n",
       "      <td>Northern Metropolitan</td>\n",
       "      <td>4019.0</td>\n",
       "    </tr>\n",
       "    <tr>\n",
       "      <th>...</th>\n",
       "      <td>...</td>\n",
       "      <td>...</td>\n",
       "      <td>...</td>\n",
       "      <td>...</td>\n",
       "      <td>...</td>\n",
       "      <td>...</td>\n",
       "      <td>...</td>\n",
       "      <td>...</td>\n",
       "      <td>...</td>\n",
       "      <td>...</td>\n",
       "      <td>...</td>\n",
       "      <td>...</td>\n",
       "      <td>...</td>\n",
       "      <td>...</td>\n",
       "      <td>...</td>\n",
       "      <td>...</td>\n",
       "      <td>...</td>\n",
       "      <td>...</td>\n",
       "      <td>...</td>\n",
       "      <td>...</td>\n",
       "      <td>...</td>\n",
       "    </tr>\n",
       "    <tr>\n",
       "      <th>13575</th>\n",
       "      <td>Wheelers Hill</td>\n",
       "      <td>12 Strada Cr</td>\n",
       "      <td>4</td>\n",
       "      <td>h</td>\n",
       "      <td>1245000.0</td>\n",
       "      <td>S</td>\n",
       "      <td>Barry</td>\n",
       "      <td>26/08/2017</td>\n",
       "      <td>16.7</td>\n",
       "      <td>3150.0</td>\n",
       "      <td>...</td>\n",
       "      <td>2.0</td>\n",
       "      <td>2.0</td>\n",
       "      <td>652.0</td>\n",
       "      <td>NaN</td>\n",
       "      <td>1981.0</td>\n",
       "      <td>NaN</td>\n",
       "      <td>-37.90562</td>\n",
       "      <td>145.16761</td>\n",
       "      <td>South-Eastern Metropolitan</td>\n",
       "      <td>7392.0</td>\n",
       "    </tr>\n",
       "    <tr>\n",
       "      <th>13576</th>\n",
       "      <td>Williamstown</td>\n",
       "      <td>77 Merrett Dr</td>\n",
       "      <td>3</td>\n",
       "      <td>h</td>\n",
       "      <td>1031000.0</td>\n",
       "      <td>SP</td>\n",
       "      <td>Williams</td>\n",
       "      <td>26/08/2017</td>\n",
       "      <td>6.8</td>\n",
       "      <td>3016.0</td>\n",
       "      <td>...</td>\n",
       "      <td>2.0</td>\n",
       "      <td>2.0</td>\n",
       "      <td>333.0</td>\n",
       "      <td>133.0</td>\n",
       "      <td>1995.0</td>\n",
       "      <td>NaN</td>\n",
       "      <td>-37.85927</td>\n",
       "      <td>144.87904</td>\n",
       "      <td>Western Metropolitan</td>\n",
       "      <td>6380.0</td>\n",
       "    </tr>\n",
       "    <tr>\n",
       "      <th>13577</th>\n",
       "      <td>Williamstown</td>\n",
       "      <td>83 Power St</td>\n",
       "      <td>3</td>\n",
       "      <td>h</td>\n",
       "      <td>1170000.0</td>\n",
       "      <td>S</td>\n",
       "      <td>Raine</td>\n",
       "      <td>26/08/2017</td>\n",
       "      <td>6.8</td>\n",
       "      <td>3016.0</td>\n",
       "      <td>...</td>\n",
       "      <td>2.0</td>\n",
       "      <td>4.0</td>\n",
       "      <td>436.0</td>\n",
       "      <td>NaN</td>\n",
       "      <td>1997.0</td>\n",
       "      <td>NaN</td>\n",
       "      <td>-37.85274</td>\n",
       "      <td>144.88738</td>\n",
       "      <td>Western Metropolitan</td>\n",
       "      <td>6380.0</td>\n",
       "    </tr>\n",
       "    <tr>\n",
       "      <th>13578</th>\n",
       "      <td>Williamstown</td>\n",
       "      <td>96 Verdon St</td>\n",
       "      <td>4</td>\n",
       "      <td>h</td>\n",
       "      <td>2500000.0</td>\n",
       "      <td>PI</td>\n",
       "      <td>Sweeney</td>\n",
       "      <td>26/08/2017</td>\n",
       "      <td>6.8</td>\n",
       "      <td>3016.0</td>\n",
       "      <td>...</td>\n",
       "      <td>1.0</td>\n",
       "      <td>5.0</td>\n",
       "      <td>866.0</td>\n",
       "      <td>157.0</td>\n",
       "      <td>1920.0</td>\n",
       "      <td>NaN</td>\n",
       "      <td>-37.85908</td>\n",
       "      <td>144.89299</td>\n",
       "      <td>Western Metropolitan</td>\n",
       "      <td>6380.0</td>\n",
       "    </tr>\n",
       "    <tr>\n",
       "      <th>13579</th>\n",
       "      <td>Yarraville</td>\n",
       "      <td>6 Agnes St</td>\n",
       "      <td>4</td>\n",
       "      <td>h</td>\n",
       "      <td>1285000.0</td>\n",
       "      <td>SP</td>\n",
       "      <td>Village</td>\n",
       "      <td>26/08/2017</td>\n",
       "      <td>6.3</td>\n",
       "      <td>3013.0</td>\n",
       "      <td>...</td>\n",
       "      <td>1.0</td>\n",
       "      <td>1.0</td>\n",
       "      <td>362.0</td>\n",
       "      <td>112.0</td>\n",
       "      <td>1920.0</td>\n",
       "      <td>NaN</td>\n",
       "      <td>-37.81188</td>\n",
       "      <td>144.88449</td>\n",
       "      <td>Western Metropolitan</td>\n",
       "      <td>6543.0</td>\n",
       "    </tr>\n",
       "  </tbody>\n",
       "</table>\n",
       "<p>13580 rows × 21 columns</p>\n",
       "</div>"
      ],
      "text/plain": [
       "              Suburb           Address  Rooms Type      Price Method  \\\n",
       "0         Abbotsford      85 Turner St      2    h  1480000.0      S   \n",
       "1         Abbotsford   25 Bloomburg St      2    h  1035000.0      S   \n",
       "2         Abbotsford      5 Charles St      3    h  1465000.0     SP   \n",
       "3         Abbotsford  40 Federation La      3    h   850000.0     PI   \n",
       "4         Abbotsford       55a Park St      4    h  1600000.0     VB   \n",
       "...              ...               ...    ...  ...        ...    ...   \n",
       "13575  Wheelers Hill      12 Strada Cr      4    h  1245000.0      S   \n",
       "13576   Williamstown     77 Merrett Dr      3    h  1031000.0     SP   \n",
       "13577   Williamstown       83 Power St      3    h  1170000.0      S   \n",
       "13578   Williamstown      96 Verdon St      4    h  2500000.0     PI   \n",
       "13579     Yarraville        6 Agnes St      4    h  1285000.0     SP   \n",
       "\n",
       "        SellerG        Date  Distance  Postcode  ...  Bathroom  Car  Landsize  \\\n",
       "0        Biggin   3/12/2016       2.5    3067.0  ...       1.0  1.0     202.0   \n",
       "1        Biggin   4/02/2016       2.5    3067.0  ...       1.0  0.0     156.0   \n",
       "2        Biggin   4/03/2017       2.5    3067.0  ...       2.0  0.0     134.0   \n",
       "3        Biggin   4/03/2017       2.5    3067.0  ...       2.0  1.0      94.0   \n",
       "4        Nelson   4/06/2016       2.5    3067.0  ...       1.0  2.0     120.0   \n",
       "...         ...         ...       ...       ...  ...       ...  ...       ...   \n",
       "13575     Barry  26/08/2017      16.7    3150.0  ...       2.0  2.0     652.0   \n",
       "13576  Williams  26/08/2017       6.8    3016.0  ...       2.0  2.0     333.0   \n",
       "13577     Raine  26/08/2017       6.8    3016.0  ...       2.0  4.0     436.0   \n",
       "13578   Sweeney  26/08/2017       6.8    3016.0  ...       1.0  5.0     866.0   \n",
       "13579   Village  26/08/2017       6.3    3013.0  ...       1.0  1.0     362.0   \n",
       "\n",
       "       BuildingArea  YearBuilt  CouncilArea Lattitude  Longtitude  \\\n",
       "0               NaN        NaN        Yarra -37.79960   144.99840   \n",
       "1              79.0     1900.0        Yarra -37.80790   144.99340   \n",
       "2             150.0     1900.0        Yarra -37.80930   144.99440   \n",
       "3               NaN        NaN        Yarra -37.79690   144.99690   \n",
       "4             142.0     2014.0        Yarra -37.80720   144.99410   \n",
       "...             ...        ...          ...       ...         ...   \n",
       "13575           NaN     1981.0          NaN -37.90562   145.16761   \n",
       "13576         133.0     1995.0          NaN -37.85927   144.87904   \n",
       "13577           NaN     1997.0          NaN -37.85274   144.88738   \n",
       "13578         157.0     1920.0          NaN -37.85908   144.89299   \n",
       "13579         112.0     1920.0          NaN -37.81188   144.88449   \n",
       "\n",
       "                       Regionname Propertycount  \n",
       "0           Northern Metropolitan        4019.0  \n",
       "1           Northern Metropolitan        4019.0  \n",
       "2           Northern Metropolitan        4019.0  \n",
       "3           Northern Metropolitan        4019.0  \n",
       "4           Northern Metropolitan        4019.0  \n",
       "...                           ...           ...  \n",
       "13575  South-Eastern Metropolitan        7392.0  \n",
       "13576        Western Metropolitan        6380.0  \n",
       "13577        Western Metropolitan        6380.0  \n",
       "13578        Western Metropolitan        6380.0  \n",
       "13579        Western Metropolitan        6543.0  \n",
       "\n",
       "[13580 rows x 21 columns]"
      ]
     },
     "execution_count": 36,
     "metadata": {},
     "output_type": "execute_result"
    }
   ],
   "source": [
    "\n",
    "df = pd.read_csv(\"../datasets/melb_data.csv\")\n",
    "\n",
    "#When displaying a DataFrame, the first and last 5 rows will be shown by default:\n",
    "df"
   ]
  },
  {
   "cell_type": "markdown",
   "id": "ef671499",
   "metadata": {},
   "source": [
    "Use head() function to display first n rows of the data frame"
   ]
  },
  {
   "cell_type": "code",
   "execution_count": null,
   "id": "e80ca573",
   "metadata": {},
   "outputs": [],
   "source": [
    "df.head(10)"
   ]
  },
  {
   "cell_type": "markdown",
   "id": "86af8292",
   "metadata": {},
   "source": [
    "We can use `dtypes` attribute if the dataframe to check how pandas intrepeted the column data type.  \n",
    "The data types in this DataFrame are integers (int64), floats (float64) and strings (object)."
   ]
  },
  {
   "cell_type": "code",
   "execution_count": null,
   "id": "06722fd2",
   "metadata": {},
   "outputs": [],
   "source": [
    "df.dtypes"
   ]
  },
  {
   "cell_type": "markdown",
   "id": "24903d8e",
   "metadata": {},
   "source": [
    "The `describe()` method provides quick overview of the numerical values in dataframe. We can see values for columns like \"suburb, seller, address,...\" are all skipped becuase they have string values"
   ]
  },
  {
   "cell_type": "code",
   "execution_count": null,
   "id": "6cb45714",
   "metadata": {},
   "outputs": [],
   "source": [
    "df.describe()"
   ]
  },
  {
   "cell_type": "markdown",
   "id": "6482606d",
   "metadata": {},
   "source": [
    "We can also look at individual statistics of the selected column"
   ]
  },
  {
   "cell_type": "code",
   "execution_count": null,
   "id": "8e010799",
   "metadata": {},
   "outputs": [],
   "source": [
    "price = df[\"Price\"]\n",
    "print(price.head(5))\n",
    "print(f\"max price is {price.max()}\")\n",
    "print(f\"min price is {price.min()}\")\n",
    "print(f\"mean price is {price.mean()}\")\n",
    "print(f\"median price is {price.median()}\")"
   ]
  },
  {
   "cell_type": "markdown",
   "id": "dddd2328",
   "metadata": {},
   "source": [
    "Instead of the predefined statistics, specific combinations of aggregating statistics for given columns can be defined using the DataFrame.agg() method:"
   ]
  },
  {
   "cell_type": "code",
   "execution_count": 38,
   "id": "d038ef54",
   "metadata": {},
   "outputs": [
    {
     "data": {
      "text/html": [
       "<div>\n",
       "<style scoped>\n",
       "    .dataframe tbody tr th:only-of-type {\n",
       "        vertical-align: middle;\n",
       "    }\n",
       "\n",
       "    .dataframe tbody tr th {\n",
       "        vertical-align: top;\n",
       "    }\n",
       "\n",
       "    .dataframe thead th {\n",
       "        text-align: right;\n",
       "    }\n",
       "</style>\n",
       "<table border=\"1\" class=\"dataframe\">\n",
       "  <thead>\n",
       "    <tr style=\"text-align: right;\">\n",
       "      <th></th>\n",
       "      <th>Price</th>\n",
       "      <th>Landsize</th>\n",
       "    </tr>\n",
       "  </thead>\n",
       "  <tbody>\n",
       "    <tr>\n",
       "      <th>min</th>\n",
       "      <td>8.500000e+04</td>\n",
       "      <td>0.000000</td>\n",
       "    </tr>\n",
       "    <tr>\n",
       "      <th>max</th>\n",
       "      <td>9.000000e+06</td>\n",
       "      <td>433014.000000</td>\n",
       "    </tr>\n",
       "    <tr>\n",
       "      <th>median</th>\n",
       "      <td>9.030000e+05</td>\n",
       "      <td>440.000000</td>\n",
       "    </tr>\n",
       "    <tr>\n",
       "      <th>skew</th>\n",
       "      <td>2.239624e+00</td>\n",
       "      <td>NaN</td>\n",
       "    </tr>\n",
       "    <tr>\n",
       "      <th>std</th>\n",
       "      <td>6.393107e+05</td>\n",
       "      <td>NaN</td>\n",
       "    </tr>\n",
       "    <tr>\n",
       "      <th>mean</th>\n",
       "      <td>NaN</td>\n",
       "      <td>558.416127</td>\n",
       "    </tr>\n",
       "  </tbody>\n",
       "</table>\n",
       "</div>"
      ],
      "text/plain": [
       "               Price       Landsize\n",
       "min     8.500000e+04       0.000000\n",
       "max     9.000000e+06  433014.000000\n",
       "median  9.030000e+05     440.000000\n",
       "skew    2.239624e+00            NaN\n",
       "std     6.393107e+05            NaN\n",
       "mean             NaN     558.416127"
      ]
     },
     "execution_count": 38,
     "metadata": {},
     "output_type": "execute_result"
    }
   ],
   "source": [
    "df.agg(\n",
    "    {\n",
    "        \"Price\": [\"min\", \"max\", \"median\", \"skew\", \"std\"],\n",
    "        \"Landsize\": [\"min\", \"max\", \"median\", \"mean\"]\n",
    "    }\n",
    ")"
   ]
  },
  {
   "cell_type": "markdown",
   "id": "c3402d13",
   "metadata": {},
   "source": [
    "Aggregating statistics grouped by category\n",
    "We can use `groupby` to get mean price for all `PostCode` in our dataset"
   ]
  },
  {
   "cell_type": "code",
   "execution_count": 45,
   "id": "49a3cbc4",
   "metadata": {},
   "outputs": [
    {
     "data": {
      "text/html": [
       "<div>\n",
       "<style scoped>\n",
       "    .dataframe tbody tr th:only-of-type {\n",
       "        vertical-align: middle;\n",
       "    }\n",
       "\n",
       "    .dataframe tbody tr th {\n",
       "        vertical-align: top;\n",
       "    }\n",
       "\n",
       "    .dataframe thead th {\n",
       "        text-align: right;\n",
       "    }\n",
       "</style>\n",
       "<table border=\"1\" class=\"dataframe\">\n",
       "  <thead>\n",
       "    <tr style=\"text-align: right;\">\n",
       "      <th></th>\n",
       "      <th>Price</th>\n",
       "    </tr>\n",
       "    <tr>\n",
       "      <th>Postcode</th>\n",
       "      <th></th>\n",
       "    </tr>\n",
       "  </thead>\n",
       "  <tbody>\n",
       "    <tr>\n",
       "      <th>3000.0</th>\n",
       "      <td>6.169457e+05</td>\n",
       "    </tr>\n",
       "    <tr>\n",
       "      <th>3002.0</th>\n",
       "      <td>1.440227e+06</td>\n",
       "    </tr>\n",
       "    <tr>\n",
       "      <th>3003.0</th>\n",
       "      <td>9.945161e+05</td>\n",
       "    </tr>\n",
       "    <tr>\n",
       "      <th>3006.0</th>\n",
       "      <td>6.340122e+05</td>\n",
       "    </tr>\n",
       "    <tr>\n",
       "      <th>3008.0</th>\n",
       "      <td>8.433333e+05</td>\n",
       "    </tr>\n",
       "    <tr>\n",
       "      <th>...</th>\n",
       "      <td>...</td>\n",
       "    </tr>\n",
       "    <tr>\n",
       "      <th>3809.0</th>\n",
       "      <td>5.590000e+05</td>\n",
       "    </tr>\n",
       "    <tr>\n",
       "      <th>3810.0</th>\n",
       "      <td>4.963333e+05</td>\n",
       "    </tr>\n",
       "    <tr>\n",
       "      <th>3910.0</th>\n",
       "      <td>6.545833e+05</td>\n",
       "    </tr>\n",
       "    <tr>\n",
       "      <th>3976.0</th>\n",
       "      <td>5.520000e+05</td>\n",
       "    </tr>\n",
       "    <tr>\n",
       "      <th>3977.0</th>\n",
       "      <td>6.072132e+05</td>\n",
       "    </tr>\n",
       "  </tbody>\n",
       "</table>\n",
       "<p>198 rows × 1 columns</p>\n",
       "</div>"
      ],
      "text/plain": [
       "                 Price\n",
       "Postcode              \n",
       "3000.0    6.169457e+05\n",
       "3002.0    1.440227e+06\n",
       "3003.0    9.945161e+05\n",
       "3006.0    6.340122e+05\n",
       "3008.0    8.433333e+05\n",
       "...                ...\n",
       "3809.0    5.590000e+05\n",
       "3810.0    4.963333e+05\n",
       "3910.0    6.545833e+05\n",
       "3976.0    5.520000e+05\n",
       "3977.0    6.072132e+05\n",
       "\n",
       "[198 rows x 1 columns]"
      ]
     },
     "execution_count": 45,
     "metadata": {},
     "output_type": "execute_result"
    }
   ],
   "source": [
    "df[[\"Price\", \"Postcode\"]].groupby(\"Postcode\").mean()"
   ]
  },
  {
   "cell_type": "markdown",
   "id": "51975d11",
   "metadata": {},
   "source": [
    "We can also  use `groupby` on specific column and then use another column to get statistcis for that"
   ]
  },
  {
   "cell_type": "code",
   "execution_count": 48,
   "id": "b72d265c",
   "metadata": {},
   "outputs": [
    {
     "data": {
      "text/plain": [
       "Postcode\n",
       "3000.0    1.826087\n",
       "3002.0    2.000000\n",
       "3003.0    2.387097\n",
       "3006.0    2.073171\n",
       "3008.0    2.333333\n",
       "            ...   \n",
       "3809.0    4.000000\n",
       "3810.0    4.000000\n",
       "3910.0    3.166667\n",
       "3976.0    3.500000\n",
       "3977.0    4.125000\n",
       "Name: Rooms, Length: 198, dtype: float64"
      ]
     },
     "execution_count": 48,
     "metadata": {},
     "output_type": "execute_result"
    }
   ],
   "source": [
    "df.groupby(\"Postcode\")[\"Rooms\"].mean()"
   ]
  },
  {
   "cell_type": "markdown",
   "id": "81e8d47b",
   "metadata": {},
   "source": [
    "Using `groupby` by multiple columns and explore another column behvior for this grouped data"
   ]
  },
  {
   "cell_type": "code",
   "execution_count": 51,
   "id": "01d0f223",
   "metadata": {},
   "outputs": [
    {
     "data": {
      "text/plain": [
       "Postcode  YearBuilt\n",
       "3000.0    1917.0       2.0\n",
       "          1920.0       1.0\n",
       "          1938.0       4.0\n",
       "          1950.0       2.0\n",
       "          1960.0       1.0\n",
       "                      ... \n",
       "3976.0    1998.0       3.0\n",
       "3977.0    1990.0       4.0\n",
       "          2002.0       4.0\n",
       "          2006.0       5.0\n",
       "          2010.0       4.0\n",
       "Name: Rooms, Length: 3189, dtype: float64"
      ]
     },
     "execution_count": 51,
     "metadata": {},
     "output_type": "execute_result"
    }
   ],
   "source": [
    "df.groupby([\"Postcode\", \"YearBuilt\"])[\"Rooms\"].mean()"
   ]
  },
  {
   "cell_type": "markdown",
   "id": "00169698",
   "metadata": {},
   "source": [
    "The value_counts() method counts the number of records for each category in a column."
   ]
  },
  {
   "cell_type": "code",
   "execution_count": 53,
   "id": "0592d416",
   "metadata": {},
   "outputs": [
    {
     "data": {
      "text/plain": [
       "Postcode\n",
       "3073.0    359\n",
       "3020.0    306\n",
       "3121.0    292\n",
       "3040.0    290\n",
       "3046.0    284\n",
       "         ... \n",
       "3782.0      1\n",
       "3757.0      1\n",
       "3756.0      1\n",
       "3438.0      1\n",
       "3793.0      1\n",
       "Name: count, Length: 198, dtype: int64"
      ]
     },
     "execution_count": 53,
     "metadata": {},
     "output_type": "execute_result"
    }
   ],
   "source": [
    "df[\"Postcode\"].value_counts()"
   ]
  },
  {
   "cell_type": "markdown",
   "id": "59f63882",
   "metadata": {},
   "source": [
    "We can also select multiple columns from dataframe to explore"
   ]
  },
  {
   "cell_type": "code",
   "execution_count": null,
   "id": "84eed7fa",
   "metadata": {},
   "outputs": [],
   "source": [
    "data = df[[\"Price\", \"Rooms\", \"Bathroom\", \"Landsize\", \"YearBuilt\"]]\n",
    "data.head()"
   ]
  },
  {
   "cell_type": "markdown",
   "id": "eb10e4dd",
   "metadata": {},
   "source": [
    "Now if we check describe(), it will return minimum values for all columns in this new dataframe"
   ]
  },
  {
   "cell_type": "code",
   "execution_count": null,
   "id": "fe1430e6",
   "metadata": {},
   "outputs": [],
   "source": [
    "data.describe()"
   ]
  },
  {
   "cell_type": "markdown",
   "id": "745b4ef9",
   "metadata": {},
   "source": [
    "We can get quick visual check of the data by using method `plot()"
   ]
  },
  {
   "cell_type": "code",
   "execution_count": null,
   "id": "4f4b17c8",
   "metadata": {},
   "outputs": [],
   "source": [
    "data.plot.scatter(x=\"Rooms\", y= \"Price\")"
   ]
  },
  {
   "cell_type": "markdown",
   "id": "c95b955a",
   "metadata": {},
   "source": [
    "Separate subplots for each of the data columns are supported by the subplots argument of the plot functions. The builtin options available in each of the pandas plot functions are worth reviewing."
   ]
  },
  {
   "cell_type": "code",
   "execution_count": null,
   "id": "4e0b8dcb",
   "metadata": {},
   "outputs": [],
   "source": [
    "data.plot.area(figsize=(12,4), subplots=True)"
   ]
  },
  {
   "cell_type": "markdown",
   "id": "3363d4ef",
   "metadata": {},
   "source": [
    "To create a new column, use the [] brackets with the new column name at the left side of the assignment."
   ]
  },
  {
   "cell_type": "code",
   "execution_count": null,
   "id": "c7684113",
   "metadata": {},
   "outputs": [],
   "source": [
    "data[\"TotalRooms\"] = data[\"Rooms\"] + data[\"Bathroom\"]\n",
    "data.head()"
   ]
  },
  {
   "cell_type": "markdown",
   "id": "f5bee9f4",
   "metadata": {},
   "source": [
    "The rename() function can be used for both row labels and column labels. Provide a dictionary with the keys the current names and the values the new names to update the corresponding names."
   ]
  },
  {
   "cell_type": "code",
   "execution_count": null,
   "id": "5beb4bf5",
   "metadata": {},
   "outputs": [],
   "source": [
    "data_renamed = data.rename(\n",
    "    columns = {\n",
    "        \"Bathroom\": \"BathRooms\"\n",
    "    }\n",
    ")\n",
    "data_renamed.head()"
   ]
  }
 ],
 "metadata": {
  "kernelspec": {
   "display_name": ".venv",
   "language": "python",
   "name": "python3"
  },
  "language_info": {
   "codemirror_mode": {
    "name": "ipython",
    "version": 3
   },
   "file_extension": ".py",
   "mimetype": "text/x-python",
   "name": "python",
   "nbconvert_exporter": "python",
   "pygments_lexer": "ipython3",
   "version": "3.13.3"
  }
 },
 "nbformat": 4,
 "nbformat_minor": 5
}
