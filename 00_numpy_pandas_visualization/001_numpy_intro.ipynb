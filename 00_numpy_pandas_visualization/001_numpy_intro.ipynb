{
 "cells": [
  {
   "cell_type": "markdown",
   "id": "0512d7e1",
   "metadata": {},
   "source": [
    "## 📦 What is NumPy?\n",
    "\n",
    "[NumPy](https://numpy.org/doc/stable/user/whatisnumpy.html) is a fundamental package for scientific computing in Python. It provides:\n",
    "- Support for large, multi-dimensional arrays and matrices\n",
    "- A collection of mathematical functions to operate on these arrays\n",
    "- Internals written in C, making it highly efficient for numerical operations\n",
    "\n",
    "It is primarily used for numerical operations, especially with large, multi-dimensional arrays. It is typically imported using import numpy as NP. Unlike Python lists, NumPy arrays are designed for efficient numerical operations and consistent data types."
   ]
  },
  {
   "cell_type": "code",
   "execution_count": null,
   "id": "fed1ef90",
   "metadata": {},
   "outputs": [],
   "source": [
    "import numpy as np\n",
    "\n",
    "arr = np.array([1,2,3])\n",
    "arr\n",
    "arr.shape"
   ]
  },
  {
   "cell_type": "code",
   "execution_count": null,
   "id": "ffdf7bca",
   "metadata": {},
   "outputs": [],
   "source": [
    "b = np.array([[1,2,3], [4,5,6]])\n",
    "b.shape"
   ]
  },
  {
   "cell_type": "markdown",
   "id": "69e118bd",
   "metadata": {},
   "source": [
    "NumPy arrays are “N-dimensional,” meaning they can have any number of dimensions—1D, 2D, 3D, and so on. However, in multi-dimensional arrays, NumPy requires that the structure be regular. This means that each row in a 2D array must have the same number of columns, and each sub-array in higher dimensions must also be uniform in size. You cannot create arrays with uneven or jagged shapes—doing so will result in an error."
   ]
  },
  {
   "cell_type": "code",
   "execution_count": null,
   "id": "a4728906",
   "metadata": {},
   "outputs": [],
   "source": [
    "#Valid NumPy 2D Array (All rows same length)\n",
    "# All rows have the same number of columns\n",
    "valid_array = np.array([\n",
    "    [1, 2, 3],\n",
    "    [4, 5, 6],\n",
    "    [7, 8, 9]\n",
    "])\n",
    "\n",
    "print(valid_array)"
   ]
  },
  {
   "cell_type": "code",
   "execution_count": null,
   "id": "5842d850",
   "metadata": {},
   "outputs": [],
   "source": [
    "#❌ Invalid Ragged Array (Different row lengths)\n",
    "# Rows have different lengths this will throw error \"ValueError: setting an array element \n",
    "# with a sequence. The requested array has an inhomogeneous shape after 1 dimensions...\"\n",
    "ragged_array = np.array([\n",
    "    [1, 2, 3],\n",
    "    [4, 5],\n",
    "    [6]\n",
    "])"
   ]
  },
  {
   "cell_type": "markdown",
   "id": "652f0a28",
   "metadata": {},
   "source": [
    "## Why is NumPy fast?\n",
    "NumPy is fast for three key reasons — and all of them boil down to avoiding Python's usual overhead and leveraging efficient, low-level optimizations.\n",
    "\n",
    "#### 1. Contiguous, Typed Memory (Homogeneous Arrays)\n",
    "        Python lists:\n",
    "         - Store references to objects\n",
    "         - Can contain mixed types (e.g., [3, \"cat\", True])\n",
    "         - Require dynamic type resolution at runtime\n",
    " \n",
    "        NumPy arrays:\n",
    "         - Store data in contiguous blocks of memory\n",
    "         - Use fixed, uniform types (like int32, float64)\n",
    "         - Allow for cache-friendly access and low-level optimization\n",
    "#### 2. Precompiled C/Fortran Backend\n",
    "        NumPy is essentially a Python wrapper over optimized C libraries.\n",
    "        Examples:\n",
    "         - Matrix operations → BLAS, LAPACK\n",
    "         - Fast transforms → FFTW\n",
    "         - Linear algebra → optimized C routines\n",
    "         These libraries are heavily optimized over decades for high-performance computing, and Python simply calls them with a clean interface.\n",
    "#### 3. Vectorization (No Python Loops)\n",
    "        Vectorization is a programming technique where you avoid explicit loops and indexing in your code by applying operations to whole arrays or collections at once. Instead of writing a loop to process each element, you rely on libraries (like NumPy) that perform the underlying operations using highly optimized, pre-compiled C or Fortran code. Instead of using Python's slow, interpreted for loops, NumPy performs operations on entire arrays at once using:\n",
    "                - C or Fortran-level loops under the hood\n",
    "                - Single function calls that process data in bulk\n",
    "        This avoids Python’s loop overhead and type checking on every iteration."
   ]
  },
  {
   "cell_type": "code",
   "execution_count": null,
   "id": "dd6492d3",
   "metadata": {},
   "outputs": [],
   "source": [
    "#Non-vectorized Code (Using an Explicit Loop)\n",
    "import time\n",
    "import random\n",
    "\n",
    "# Create two lists of 1 million random numbers.\n",
    "size = 10**6\n",
    "a = [random.random() for _ in range(size)]\n",
    "b = [random.random() for _ in range(size)]\n",
    "\n",
    "# Time the explicit loop multiplication\n",
    "start_time = time.time()\n",
    "c = []\n",
    "for i in range(size):\n",
    "    c.append(a[i] * b[i])\n",
    "end_time = time.time()\n",
    "\n",
    "print(\"Time with explicit loop:\", end_time - start_time, \"seconds\")\n"
   ]
  },
  {
   "cell_type": "code",
   "execution_count": null,
   "id": "928ae56c",
   "metadata": {},
   "outputs": [],
   "source": [
    "# Vectorized Code (Using NumPy)\n",
    "import time\n",
    "import numpy as np\n",
    "\n",
    "# Create two NumPy arrays of 1 million random numbers.\n",
    "a = np.random.random(size)\n",
    "b = np.random.random(size)\n",
    "\n",
    "# Time the vectorized multiplication\n",
    "start_time = time.time()\n",
    "c = a * b\n",
    "end_time = time.time()\n",
    "\n",
    "print(\"Time with vectorized operation:\", end_time - start_time, \"seconds\")"
   ]
  },
  {
   "cell_type": "markdown",
   "id": "6d64bdc2",
   "metadata": {},
   "source": [
    "What You’ll Observe:\n",
    "Memory & Speed: The vectorized operation is typically orders of magnitude faster than the explicit loop.\n",
    "Simplicity: The code is much more concise, making it easier to read and maintain."
   ]
  },
  {
   "cell_type": "code",
   "execution_count": null,
   "id": "847fd77f",
   "metadata": {},
   "outputs": [],
   "source": [
    "arr = np.array([[1,2,3],[4,5,6],[7,8,9]])\n",
    "arr.shape"
   ]
  },
  {
   "cell_type": "markdown",
   "id": "bfbe8910",
   "metadata": {},
   "source": [
    "We can use `reshape` to change shape of numpy array. The above `arr` has shape `(3,3)` which is 3 rows and 3 columns. Let's change it to `(9, 1)` which 8 rows and 1 column using reshape. One thing to remember while reshape is we need to make sure total number of elements in array stays same. In our case total element is 9 - so we can reshape to any one of the following\n",
    "```\n",
    "arr.reshape(1, 9)   # 1 row, 9 columns\n",
    "arr.reshape(9, 1)   # 9 rows, 1 column\n",
    "arr.reshape(3, 3)   # same as original\n",
    "arr.reshape(9,)     # flatten into 1D array\n",
    "```\n",
    "Trying to do `arr.reshape(3, 2)` will raise a ValueError because original shape: (3, 3) → 9 elements\n",
    "but new shape: (3, 2) → 6 elements"
   ]
  },
  {
   "cell_type": "code",
   "execution_count": null,
   "id": "202671b8",
   "metadata": {},
   "outputs": [],
   "source": [
    "arr.reshape(9,1)"
   ]
  },
  {
   "cell_type": "markdown",
   "id": "aabfc6ce",
   "metadata": {},
   "source": [
    "Creating numpy array manually everytime  is inefficient, so we can use few built in functions to quickly create numpy arrays."
   ]
  },
  {
   "cell_type": "code",
   "execution_count": null,
   "id": "977ae24b",
   "metadata": {},
   "outputs": [],
   "source": [
    "# Using np.zeros((r,c), dtype) for quickly generating an array filled with zeros of a specified shape\n",
    "np_zeros_default = np.zeros((3,3))\n",
    "print(f\"np_zeros_default = {np_zeros_default}\")\n",
    "#above will generate array of floating point numbers, if we want specific dataype we can generate \n",
    "np_zeros_int = np.zeros((2, 3), dtype=int) \n",
    "print(f\"np_zeros_int = {np_zeros_int}\")"
   ]
  },
  {
   "cell_type": "code",
   "execution_count": null,
   "id": "eea9fe23",
   "metadata": {},
   "outputs": [],
   "source": [
    "# Using np.ones((r,c), dtype) for quickly generating an array filled with ones of a specified shape\n",
    "np_ones_default = np.ones((3,3))\n",
    "print(f\"np_ones_default = {np_ones_default}\")\n",
    "#above will generate array of floating point numbers, if we want specific dataype we can generate \n",
    "np_ones_int = np.ones((2, 3), dtype=int) \n",
    "print(f\"np_ones_int = {np_ones_int}\")"
   ]
  },
  {
   "cell_type": "code",
   "execution_count": null,
   "id": "44b6afaf",
   "metadata": {},
   "outputs": [],
   "source": [
    "#np.arange() is a NumPy function used to create evenly spaced values within a given interval, \n",
    "# similar to Python's built-in range() — but returns a NumPy array instead.\n",
    "\n",
    "print(np.arange(5))\n",
    "# → array([0, 1, 2, 3, 4])\n",
    "print(np.arange(2, 10))\n",
    "# → array([2, 3, 4, 5, 6, 7, 8, 9])\n",
    "print(np.arange(1, 10, 2))\n",
    "# → array([1, 3, 5, 7, 9])\n",
    "print(np.arange(0, 1, 0.2))\n",
    "# → array([0. , 0.2, 0.4, 0.6, 0.8])"
   ]
  },
  {
   "cell_type": "code",
   "execution_count": null,
   "id": "b0810738",
   "metadata": {},
   "outputs": [],
   "source": [
    "#np.linspace() is used in NumPy to generate a specified number of\n",
    "#  evenly spaced values over a defined interval — including the endpoint by default.\n",
    "# np.linspace(start, stop, num=50, endpoint=True, retstep=False, dtype=None)\n",
    "print(np.linspace(0, 1, 5))\n",
    "# → array([0.  , 0.25, 0.5 , 0.75, 1.  ])\n",
    "print(np.linspace(1, 10, 4))\n",
    "# → array([ 1.,  4.,  7., 10.])\n",
    "print(np.linspace(0, 1, 5, endpoint=False))\n",
    "# → array([0. , 0.2, 0.4, 0.6, 0.8])\n",
    "values, step = np.linspace(0, 1, 5, retstep=True)\n",
    "print(values)  # → array([0.  , 0.25, 0.5 , 0.75, 1.  ])\n",
    "print(step)    # → 0.25"
   ]
  },
  {
   "cell_type": "markdown",
   "id": "5b03027a",
   "metadata": {},
   "source": [
    "We can access elements in numpy array just like a 2D matrix:"
   ]
  },
  {
   "cell_type": "code",
   "execution_count": null,
   "id": "8c4da7a7",
   "metadata": {},
   "outputs": [],
   "source": [
    "arr = np.array([[1, 2, 3],\n",
    "              [4, 5, 6],\n",
    "              [7, 8, 9]])\n",
    "#get First row\n",
    "first_row = arr[0]\n",
    "print(f\"first_row = {first_row}\")\n",
    "# First element (row 0, col 0)\n",
    "first_element = arr[0,0]\n",
    "print(f\"first_element = {first_element}\")\n",
    "#we can use slicing  to get specific colums\n",
    "first_column = arr[:, 0]\n",
    "print(f\"first_column= {first_column}\")\n",
    "\n",
    "# we can also use slicing to get specific rows\n",
    "first_row = arr[0, :]\n",
    "print(f\"first row = {first_row}\")\n",
    "last_row = arr[-1, :]\n",
    "print(f\"last row = {last_row}\")\n",
    "\n",
    "# getting multiple rows and colums\n",
    "# Top left 2X2 block\n",
    "top_left_2 = arr[:2, :2]\n",
    "print(f\"top left = {top_left_2}\")\n"
   ]
  },
  {
   "cell_type": "markdown",
   "id": "8dcd39fa",
   "metadata": {},
   "source": [
    "### Pairwise opearations and paralleliztion in numpy\n",
    "One of the biggest strength of numpy is it's ability to perform pairwise(element-wise) operations in a vectorized and parallelized way - so it is fast and efficient compared to traditional python loops.\n",
    "\n",
    "If we have 3X3 array and we want to multiply all the element in the array with 2, in traditional python way we do the below\n",
    "```\n",
    "result = []\n",
    "for row in arr:\n",
    "  for val in row:\n",
    "        result.append(val * 2)\n",
    "```\n",
    "\n",
    "Above can be done in numpy simply with\n",
    "\n",
    "` arr * 2 `\n",
    "\n",
    "It’s cleaner and much faster, because NumPy operations are written in optimized C code under the hood and leverage SIMD (Single Instruction Multiple Data) and multithreading where possible."
   ]
  },
  {
   "cell_type": "code",
   "execution_count": null,
   "id": "5227caf1",
   "metadata": {},
   "outputs": [],
   "source": [
    "# can perform operations like +, -, *, / directly on the array. \n",
    "# NumPy applies them to each element in parallel:\n",
    "arr = np.array([[1, 2, 3],\n",
    "              [4, 5, 6],\n",
    "              [7, 8, 9]])\n",
    "\n",
    "result = arr * 2\n",
    "print(result)\n",
    "# → array([[ 2,  4,  6],\n",
    "#          [ 8, 10, 12],\n",
    "#          [14, 16, 18]])\n",
    "result = arr + 1\n",
    "print(result)\n",
    "# → array([[ 2,  3,  4],\n",
    "#          [ 5,  6,  7],\n",
    "#          [ 8,  9, 10]])\n",
    "\n",
    "# Logical comparisons work the same way — applied to each element:\n",
    "result = arr > 7\n",
    "print(result)\n",
    "# → array([[False, False, False],\n",
    "#          [False, False, False],\n",
    "#          [False,  True,  True]])\n",
    "\n",
    "# We can use the result as a mask to filter values:\n",
    "arr[arr > 7]\n",
    "# → array([8, 9])"
   ]
  },
  {
   "cell_type": "markdown",
   "id": "e40b3dc0",
   "metadata": {},
   "source": [
    "In NumPy, axis refers to the direction along which operations are performed.\n",
    "\n",
    "Axis 0 ↓  (rows – vertical)\n",
    "\n",
    "Axis 1 →  (columns – horizontal)\n",
    "\n",
    "\n",
    " - Axis 0: acts down the rows (operates across rows)\n",
    " - Axis 1: acts across the columns (operates across columns)"
   ]
  },
  {
   "cell_type": "code",
   "execution_count": null,
   "id": "44ba30bb",
   "metadata": {},
   "outputs": [],
   "source": [
    "B = np.array([[1, 2, 3],\n",
    "              [4, 5, 6]])\n",
    "\n",
    "# np.sum(B, axis=0) → Sum down each column (axis 0)\n",
    "result = np.sum(B, axis=0)\n",
    "print(result)\n",
    "\n",
    "# np.sum(B, axis=1) → Sum across each row (axis 1)\n",
    "np.sum(B, axis=1)\n",
    "# array([6, 15]) → [1+2+3, 4+5+6]\n"
   ]
  },
  {
   "cell_type": "markdown",
   "id": "cff77c4f",
   "metadata": {},
   "source": [
    "np.mean() is used in NumPy to calculate the average (arithmetic mean) of array elements. You can compute the mean for the entire array or along a specific axis."
   ]
  },
  {
   "cell_type": "code",
   "execution_count": null,
   "id": "306d2f1b",
   "metadata": {},
   "outputs": [],
   "source": [
    "A = np.array([[1, 2, 3],\n",
    "              [4, 5, 6],\n",
    "              [7, 8, 9]])\n",
    "\n",
    "#Mean of the Entire Array\n",
    "np.mean(A)\n",
    "\n",
    "#Mean Across Rows → axis=1\n",
    "np.mean(A, axis=1)\n",
    "# → array([2., 5., 8.])\n",
    "#For each row: Row 0: (1+2+3)/3 = 2   Row 1: (4+5+6)/3 = 5.  Row 2: (7+8+9)/3 = 8\n",
    "\n",
    "# Mean Across Columns → axis=0\n",
    "np.mean(A, axis=0)\n",
    "# → array([4., 5., 6.])\n",
    "#For each column: Column 0: (1+4+7)/3 = 4.  Column 1: (2+5+8)/3 = 5.  Column 2: (3+6+9)/3 = 6"
   ]
  },
  {
   "cell_type": "markdown",
   "id": "fddb7b8e",
   "metadata": {},
   "source": [
    "`np.concatenate()` is used to join multiple NumPy arrays **along an existing axis**.\n",
    "\n",
    "\n",
    "##### Syntax\n",
    "```python\n",
    "np.concatenate((arr1, arr2, ...), axis=0)\n",
    "```\n",
    "\n",
    "Rule: \"Same Shape Except in the Dimension Corresponding to Axis\".  \n",
    "When concatenating:  \n",
    "    - Along axis=0 (rows): columns must match.  \n",
    "    - Along axis=1 (columns): rows must match"
   ]
  },
  {
   "cell_type": "code",
   "execution_count": null,
   "id": "280a21cd",
   "metadata": {},
   "outputs": [],
   "source": [
    "A = np.array([[1, 2],\n",
    "              [3, 4]])\n",
    "\n",
    "B = np.array([[5, 6],\n",
    "              [7, 8]])\n",
    "\n",
    "result = np.concatenate((A, B), axis=0)\n",
    "print(result)\n",
    "\n",
    "result = np.concatenate((A, B), axis=1)\n",
    "print(result)"
   ]
  },
  {
   "cell_type": "markdown",
   "id": "9121888c",
   "metadata": {},
   "source": []
  }
 ],
 "metadata": {
  "kernelspec": {
   "display_name": ".venv",
   "language": "python",
   "name": "python3"
  },
  "language_info": {
   "codemirror_mode": {
    "name": "ipython",
    "version": 3
   },
   "file_extension": ".py",
   "mimetype": "text/x-python",
   "name": "python",
   "nbconvert_exporter": "python",
   "pygments_lexer": "ipython3",
   "version": "3.13.3"
  }
 },
 "nbformat": 4,
 "nbformat_minor": 5
}
