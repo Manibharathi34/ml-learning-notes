{
 "cells": [
  {
   "cell_type": "markdown",
   "id": "0512d7e1",
   "metadata": {},
   "source": [
    "## 📦 What is NumPy?\n",
    "\n",
    "[NumPy](https://numpy.org/doc/stable/user/whatisnumpy.html) is a fundamental package for scientific computing in Python. It provides:\n",
    "- Support for large, multi-dimensional arrays and matrices\n",
    "- A collection of mathematical functions to operate on these arrays\n",
    "- Internals written in C, making it highly efficient for numerical operations\n",
    "\n",
    "It is primarily used for numerical operations, especially with large, multi-dimensional arrays. It is typically imported using import numpy as NP. The fundamental object in NumPy. Unlike Python lists, NumPy arrays are designed for efficient numerical operations and consistent data types."
   ]
  },
  {
   "cell_type": "code",
   "execution_count": null,
   "id": "fed1ef90",
   "metadata": {},
   "outputs": [],
   "source": [
    "import numpy as np\n",
    "\n",
    "arr = np.array([1,2,3])\n",
    "arr\n",
    "arr.shape"
   ]
  },
  {
   "cell_type": "code",
   "execution_count": null,
   "id": "ffdf7bca",
   "metadata": {},
   "outputs": [],
   "source": [
    "b = np.array([[1,2,3], [4,5,6]])\n",
    "b.shape"
   ]
  },
  {
   "cell_type": "markdown",
   "id": "69e118bd",
   "metadata": {},
   "source": [
    "NumPy arrays are “N-dimensional,” meaning they can have any number of dimensions—1D, 2D, 3D, and so on. However, in multi-dimensional arrays, NumPy requires that the structure be regular. This means that each row in a 2D array must have the same number of columns, and each sub-array in higher dimensions must also be uniform in size. You cannot create arrays with uneven or jagged shapes—doing so will result in an error."
   ]
  },
  {
   "cell_type": "code",
   "execution_count": null,
   "id": "a4728906",
   "metadata": {},
   "outputs": [],
   "source": [
    "#Valid NumPy 2D Array (All rows same length)\n",
    "# All rows have the same number of columns\n",
    "valid_array = np.array([\n",
    "    [1, 2, 3],\n",
    "    [4, 5, 6],\n",
    "    [7, 8, 9]\n",
    "])\n",
    "\n",
    "print(valid_array)"
   ]
  },
  {
   "cell_type": "code",
   "execution_count": null,
   "id": "5842d850",
   "metadata": {},
   "outputs": [],
   "source": [
    "#❌ Invalid Ragged Array (Different row lengths)\n",
    "# Rows have different lengths this will throw error \"ValueError: setting an array element with a sequence. The requested array has an inhomogeneous shape after 1 dimensions...\"\n",
    "ragged_array = np.array([\n",
    "    [1, 2, 3],\n",
    "    [4, 5],\n",
    "    [6]\n",
    "])"
   ]
  },
  {
   "cell_type": "markdown",
   "id": "652f0a28",
   "metadata": {},
   "source": [
    "## Why is NumPy fast?\n",
    "NumPy is fast for three key reasons — and all of them boil down to avoiding Python's usual overhead and leveraging efficient, low-level optimizations.\n",
    "\n",
    "#### 1. Contiguous, Typed Memory (Homogeneous Arrays)\n",
    "        Python lists:\n",
    "         - Store references to objects\n",
    "         - Can contain mixed types (e.g., [3, \"cat\", True])\n",
    "         - Require dynamic type resolution at runtime\n",
    " \n",
    "        NumPy arrays:\n",
    "         - Store data in contiguous blocks of memory\n",
    "         - Use fixed, uniform types (like int32, float64)\n",
    "         - Allow for cache-friendly access and low-level optimization\n",
    "#### 2. Precompiled C/Fortran Backend\n",
    "        NumPy is essentially a Python wrapper over optimized C libraries.\n",
    "        Examples:\n",
    "         - Matrix operations → BLAS, LAPACK\n",
    "         - Fast transforms → FFTW\n",
    "         - Linear algebra → optimized C routines\n",
    "         These libraries are heavily optimized over decades for high-performance computing, and Python simply calls them with a clean interface.\n",
    "#### 3. Vectorization (No Python Loops)\n",
    "        Vectorization is a programming technique where you avoid explicit loops and indexing in your code by applying operations to whole arrays or collections at once. Instead of writing a loop to process each element, you rely on libraries (like NumPy) that perform the underlying operations using highly optimized, pre-compiled C or Fortran code. Instead of using Python's slow, interpreted for loops, NumPy performs operations on entire arrays at once using:\n",
    "                - C or Fortran-level loops under the hood\n",
    "                - Single function calls that process data in bulk\n",
    "        This avoids Python’s loop overhead and type checking on every iteration."
   ]
  },
  {
   "cell_type": "code",
   "execution_count": null,
   "id": "dd6492d3",
   "metadata": {},
   "outputs": [],
   "source": [
    "#Non-vectorized Code (Using an Explicit Loop)\n",
    "import time\n",
    "import random\n",
    "\n",
    "# Create two lists of 1 million random numbers.\n",
    "size = 10**6\n",
    "a = [random.random() for _ in range(size)]\n",
    "b = [random.random() for _ in range(size)]\n",
    "\n",
    "# Time the explicit loop multiplication\n",
    "start_time = time.time()\n",
    "c = []\n",
    "for i in range(size):\n",
    "    c.append(a[i] * b[i])\n",
    "end_time = time.time()\n",
    "\n",
    "print(\"Time with explicit loop:\", end_time - start_time, \"seconds\")\n"
   ]
  },
  {
   "cell_type": "code",
   "execution_count": null,
   "id": "928ae56c",
   "metadata": {},
   "outputs": [],
   "source": [
    "# Vectorized Code (Using NumPy)\n",
    "import time\n",
    "import numpy as np\n",
    "\n",
    "# Create two NumPy arrays of 1 million random numbers.\n",
    "a = np.random.random(size)\n",
    "b = np.random.random(size)\n",
    "\n",
    "# Time the vectorized multiplication\n",
    "start_time = time.time()\n",
    "c = a * b\n",
    "end_time = time.time()\n",
    "\n",
    "print(\"Time with vectorized operation:\", end_time - start_time, \"seconds\")"
   ]
  }
 ],
 "metadata": {
  "kernelspec": {
   "display_name": ".venv",
   "language": "python",
   "name": "python3"
  },
  "language_info": {
   "codemirror_mode": {
    "name": "ipython",
    "version": 3
   },
   "file_extension": ".py",
   "mimetype": "text/x-python",
   "name": "python",
   "nbconvert_exporter": "python",
   "pygments_lexer": "ipython3",
   "version": "3.13.3"
  }
 },
 "nbformat": 4,
 "nbformat_minor": 5
}
